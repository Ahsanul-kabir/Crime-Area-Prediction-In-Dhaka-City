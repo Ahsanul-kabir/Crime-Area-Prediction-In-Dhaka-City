{
 "cells": [
  {
   "cell_type": "code",
   "execution_count": 1,
   "metadata": {},
   "outputs": [],
   "source": [
    "import numpy as np\n",
    "import pandas as pd"
   ]
  },
  {
   "cell_type": "code",
   "execution_count": 2,
   "metadata": {},
   "outputs": [
    {
     "data": {
      "text/html": [
       "<div>\n",
       "<style scoped>\n",
       "    .dataframe tbody tr th:only-of-type {\n",
       "        vertical-align: middle;\n",
       "    }\n",
       "\n",
       "    .dataframe tbody tr th {\n",
       "        vertical-align: top;\n",
       "    }\n",
       "\n",
       "    .dataframe thead th {\n",
       "        text-align: right;\n",
       "    }\n",
       "</style>\n",
       "<table border=\"1\" class=\"dataframe\">\n",
       "  <thead>\n",
       "    <tr style=\"text-align: right;\">\n",
       "      <th></th>\n",
       "      <th>YEAR</th>\n",
       "      <th>SNATCHING</th>\n",
       "      <th>THEFT</th>\n",
       "      <th>ROBERRY</th>\n",
       "      <th>WOMEN HARASSMENT</th>\n",
       "      <th>CHEATING</th>\n",
       "      <th>FRAUD</th>\n",
       "      <th>CHILD ABUSE</th>\n",
       "      <th>ATTEMPT TO MURDER</th>\n",
       "      <th>RAPE</th>\n",
       "      <th>STATE</th>\n",
       "    </tr>\n",
       "  </thead>\n",
       "  <tbody>\n",
       "    <tr>\n",
       "      <th>0</th>\n",
       "      <td>2001</td>\n",
       "      <td>12</td>\n",
       "      <td>12</td>\n",
       "      <td>12</td>\n",
       "      <td>6</td>\n",
       "      <td>9</td>\n",
       "      <td>9</td>\n",
       "      <td>8</td>\n",
       "      <td>8</td>\n",
       "      <td>10</td>\n",
       "      <td>Gulistan</td>\n",
       "    </tr>\n",
       "    <tr>\n",
       "      <th>1</th>\n",
       "      <td>2001</td>\n",
       "      <td>8</td>\n",
       "      <td>8</td>\n",
       "      <td>8</td>\n",
       "      <td>6</td>\n",
       "      <td>8</td>\n",
       "      <td>8</td>\n",
       "      <td>7</td>\n",
       "      <td>7</td>\n",
       "      <td>11</td>\n",
       "      <td>Mohammadpur</td>\n",
       "    </tr>\n",
       "    <tr>\n",
       "      <th>2</th>\n",
       "      <td>2001</td>\n",
       "      <td>10</td>\n",
       "      <td>10</td>\n",
       "      <td>10</td>\n",
       "      <td>6</td>\n",
       "      <td>9</td>\n",
       "      <td>9</td>\n",
       "      <td>8</td>\n",
       "      <td>8</td>\n",
       "      <td>9</td>\n",
       "      <td>Old Town Dhaka</td>\n",
       "    </tr>\n",
       "    <tr>\n",
       "      <th>3</th>\n",
       "      <td>2001</td>\n",
       "      <td>9</td>\n",
       "      <td>9</td>\n",
       "      <td>9</td>\n",
       "      <td>8</td>\n",
       "      <td>7</td>\n",
       "      <td>7</td>\n",
       "      <td>8</td>\n",
       "      <td>8</td>\n",
       "      <td>8</td>\n",
       "      <td>Mirpur</td>\n",
       "    </tr>\n",
       "    <tr>\n",
       "      <th>4</th>\n",
       "      <td>2001</td>\n",
       "      <td>10</td>\n",
       "      <td>10</td>\n",
       "      <td>10</td>\n",
       "      <td>8</td>\n",
       "      <td>7</td>\n",
       "      <td>7</td>\n",
       "      <td>7</td>\n",
       "      <td>7</td>\n",
       "      <td>9</td>\n",
       "      <td>Farmgate</td>\n",
       "    </tr>\n",
       "  </tbody>\n",
       "</table>\n",
       "</div>"
      ],
      "text/plain": [
       "   YEAR  SNATCHING  THEFT  ROBERRY  WOMEN HARASSMENT  CHEATING  FRAUD  \\\n",
       "0  2001         12     12       12                 6         9      9   \n",
       "1  2001          8      8        8                 6         8      8   \n",
       "2  2001         10     10       10                 6         9      9   \n",
       "3  2001          9      9        9                 8         7      7   \n",
       "4  2001         10     10       10                 8         7      7   \n",
       "\n",
       "   CHILD ABUSE  ATTEMPT TO MURDER  RAPE           STATE  \n",
       "0            8                  8    10        Gulistan  \n",
       "1            7                  7    11     Mohammadpur  \n",
       "2            8                  8     9  Old Town Dhaka  \n",
       "3            8                  8     8          Mirpur  \n",
       "4            7                  7     9        Farmgate  "
      ]
     },
     "execution_count": 2,
     "metadata": {},
     "output_type": "execute_result"
    }
   ],
   "source": [
    "data = pd.read_csv('Crime-Prediction-Dataset-1.csv')\n",
    "data.head(5)"
   ]
  },
  {
   "cell_type": "code",
   "execution_count": 3,
   "metadata": {},
   "outputs": [],
   "source": [
    "# ei khane data ke 2 way te devide korbo\n",
    "# input multiple hbe but output sudu ekta tai hbe\n",
    "\n",
    "real_x = data.iloc[:,:10].values\n",
    "real_y = data.iloc[:,10].values"
   ]
  },
  {
   "cell_type": "code",
   "execution_count": 4,
   "metadata": {},
   "outputs": [
    {
     "data": {
      "text/plain": [
       "array([[2001,   12,   12,   12,    6,    9,    9,    8,    8,   10],\n",
       "       [2001,    8,    8,    8,    6,    8,    8,    7,    7,   11],\n",
       "       [2001,   10,   10,   10,    6,    9,    9,    8,    8,    9],\n",
       "       [2001,    9,    9,    9,    8,    7,    7,    8,    8,    8],\n",
       "       [2001,   10,   10,   10,    8,    7,    7,    7,    7,    9],\n",
       "       [2001,   12,   12,   12,    6,   12,   12,   10,    7,    8],\n",
       "       [2001,    9,    9,    9,    7,   11,   11,    6,    6,   10],\n",
       "       [2001,    9,    9,    9,    8,    7,    7,    7,    7,    9],\n",
       "       [2001,    8,    8,    8,   10,    5,    5,    7,    9,    8],\n",
       "       [2001,    9,    9,    9,   10,   10,   10,    7,    7,    7],\n",
       "       [2001,   10,   10,   10,   10,    6,    6,    8,    8,    9],\n",
       "       [2001,    8,    8,    8,    7,    7,    7,    8,    8,    9],\n",
       "       [2001,    8,    8,    8,    9,    8,    8,    8,    7,    8],\n",
       "       [2002,    9,    9,    9,    6,    9,    9,    8,    8,   10],\n",
       "       [2002,    8,    8,    8,    6,    8,    8,    7,    7,   11],\n",
       "       [2002,   10,   10,   10,    6,    9,    9,    8,    8,    9],\n",
       "       [2002,    9,    9,    9,    8,    7,    7,    8,    8,    8],\n",
       "       [2002,   10,   10,   10,    8,    7,    7,    7,    7,    9],\n",
       "       [2002,   12,   12,   12,    6,   12,   12,   10,    7,    8],\n",
       "       [2002,    9,    9,    9,    7,   11,   11,    6,    6,   10],\n",
       "       [2002,    9,    9,    9,    8,    7,    7,    7,    7,    9],\n",
       "       [2002,    8,    8,    8,   10,    5,    5,    7,    9,    8],\n",
       "       [2002,    9,    9,    9,   10,   10,   10,    7,    7,    7],\n",
       "       [2002,   10,   10,   10,   10,    6,    6,    8,    8,    9],\n",
       "       [2002,    8,    8,    8,    7,    7,    7,    8,    8,    9],\n",
       "       [2002,    8,    8,    8,    9,    8,    8,    8,    7,    8],\n",
       "       [2003,    6,    6,    6,    6,    9,    9,    8,    8,   10],\n",
       "       [2003,    8,    8,    8,    6,    8,    8,    7,    7,   11],\n",
       "       [2003,   10,   10,   10,    6,    9,    9,    8,    8,    9],\n",
       "       [2003,    9,    9,    9,    8,    7,    7,    8,    8,    8],\n",
       "       [2003,   10,   10,   10,    8,    7,    7,    7,    7,    9],\n",
       "       [2003,   12,   12,   12,    6,   12,   12,   10,    7,    8],\n",
       "       [2003,    9,    9,    9,    7,   11,   11,    6,    6,   10],\n",
       "       [2003,    9,    9,    9,    8,    7,    7,    7,    7,    9],\n",
       "       [2003,    8,    8,    8,   10,    5,    5,    7,    9,    8],\n",
       "       [2003,    9,    9,    9,   10,   10,   10,    7,    7,    7],\n",
       "       [2003,   10,   10,   10,   10,    6,    6,    8,    8,    9],\n",
       "       [2003,    8,    8,    8,    7,    7,    7,    8,    8,    9],\n",
       "       [2003,    8,    8,    8,    9,    8,    8,    8,    7,    8],\n",
       "       [2004,   12,   12,   12,    6,    9,    9,    8,    8,   10],\n",
       "       [2004,    8,    8,    8,    6,    8,    8,    7,    7,   11],\n",
       "       [2004,   10,   10,   10,    6,    9,    9,    8,    8,    9],\n",
       "       [2004,    9,    9,    9,    8,    7,    7,    8,    8,    8],\n",
       "       [2004,   10,   10,   10,    8,    7,    7,    7,    7,    9],\n",
       "       [2004,   12,   12,   12,    6,   12,   12,   10,    7,    8],\n",
       "       [2004,    9,    9,    9,    7,   11,   11,    6,    6,   10],\n",
       "       [2004,    9,    9,    9,    8,    7,    7,    7,    7,    9],\n",
       "       [2004,    8,    8,    8,   10,    5,    5,    7,    9,    8],\n",
       "       [2004,    9,    9,    9,   10,   10,   10,    7,    7,    7],\n",
       "       [2004,   10,   10,   10,   10,    6,    6,    8,    8,    9],\n",
       "       [2004,    8,    8,    8,    7,    7,    7,    8,    8,    9],\n",
       "       [2004,    8,    8,    8,    9,    8,    8,    8,    7,    8],\n",
       "       [2005,    6,    6,    6,    6,    7,    7,    8,    8,    9],\n",
       "       [2005,    8,    8,    8,    6,    5,    5,    7,    7,   10],\n",
       "       [2005,   10,   10,   10,    6,    9,    9,    8,    8,    5],\n",
       "       [2005,    8,    8,    8,    8,   10,   10,    8,    8,    7],\n",
       "       [2005,    7,    7,    7,    8,    7,    7,    7,    7,    8],\n",
       "       [2005,    6,    6,    6,    6,   12,   12,   10,    7,    7],\n",
       "       [2005,    7,    7,    7,    7,   11,   11,    6,    6,    8],\n",
       "       [2005,    9,    9,    9,    8,    7,    7,    7,    7,    9],\n",
       "       [2005,    7,    7,    7,   10,    5,    5,    7,    9,    9],\n",
       "       [2005,    9,    9,    9,   10,   10,   10,    7,    7,    7],\n",
       "       [2005,   10,   10,   10,   10,    6,    6,    8,    8,    9],\n",
       "       [2005,    8,    8,    8,    7,    7,    7,    8,    8,    9],\n",
       "       [2005,    8,    8,    8,    9,    8,    8,    8,    7,    8],\n",
       "       [2006,    7,    7,    7,    6,    7,    7,    8,    8,    9],\n",
       "       [2006,    8,    8,    8,    6,    5,    5,    7,    7,   10],\n",
       "       [2006,   10,   10,   10,    6,    9,    9,    8,    8,    5],\n",
       "       [2006,    5,    5,    5,    8,   10,   10,    8,    8,    7],\n",
       "       [2006,    8,    8,    8,    8,    7,    7,    7,    7,    8],\n",
       "       [2006,    6,    6,    6,    6,   12,   12,   10,    7,    7],\n",
       "       [2006,    7,    7,    7,    7,   11,   11,    6,    6,    8],\n",
       "       [2006,    9,    9,    9,    8,    7,    7,    7,    7,    9],\n",
       "       [2006,    7,    7,    7,   10,    5,    5,    7,    9,    9],\n",
       "       [2006,    9,    9,    9,   10,   10,   10,    7,    7,    7],\n",
       "       [2006,   10,   10,   10,   10,    6,    6,    8,    8,    9],\n",
       "       [2006,    8,    8,    8,    7,    7,    7,    8,    8,    9],\n",
       "       [2006,    8,    8,    8,    9,    8,    8,    8,    7,    8],\n",
       "       [2007,    7,    7,    7,    6,    7,    7,    8,    8,    9],\n",
       "       [2007,    8,    8,    8,    6,    5,    5,    7,    7,   10],\n",
       "       [2007,    9,    9,    9,    6,    9,    9,    8,    8,    6],\n",
       "       [2007,   10,   10,   10,    8,   10,   10,    8,    8,    9],\n",
       "       [2007,    8,    8,    8,    8,    7,    7,    7,    7,   10],\n",
       "       [2007,    6,    6,    6,    6,   12,   12,   10,    7,    9],\n",
       "       [2007,    7,    7,    7,    7,   11,   11,    6,    6,    5],\n",
       "       [2007,    9,    9,    9,    8,    7,    7,    7,    7,    8],\n",
       "       [2007,    7,    7,    7,   10,    5,    5,    7,    9,    9],\n",
       "       [2007,   10,   10,   10,    8,   10,   10,    7,    7,    7],\n",
       "       [2007,   10,   10,   10,   10,    6,    6,    8,    8,    9],\n",
       "       [2007,    8,    8,    8,    7,    7,    7,    8,    8,    9],\n",
       "       [2007,    8,    8,    8,    9,    8,    8,    8,    7,    8],\n",
       "       [2008,    9,    9,    9,    6,    7,    7,    8,    8,    9],\n",
       "       [2008,    6,    7,    8,    6,    5,    5,    7,    7,   10],\n",
       "       [2008,   10,    8,    9,    6,    9,    9,    8,    8,    5],\n",
       "       [2008,   10,    5,    8,    8,   10,   10,    8,    8,    7],\n",
       "       [2008,    6,    8,    8,    8,    7,    7,    7,    7,    8],\n",
       "       [2008,    5,    6,    6,    6,   12,   12,   10,    7,    7],\n",
       "       [2008,    5,    5,    5,    7,   11,   11,    6,    6,    8],\n",
       "       [2008,    8,    8,    8,    8,    7,    7,    7,    7,    9]],\n",
       "      dtype=int64)"
      ]
     },
     "execution_count": 4,
     "metadata": {},
     "output_type": "execute_result"
    }
   ],
   "source": [
    "real_x"
   ]
  },
  {
   "cell_type": "code",
   "execution_count": 5,
   "metadata": {},
   "outputs": [
    {
     "data": {
      "text/plain": [
       "array(['Gulistan', 'Mohammadpur', 'Old Town Dhaka', 'Mirpur', 'Farmgate',\n",
       "       'Dhanmondi', 'Bonani', 'Gulshan', 'Elephand Road', 'Khilgaon',\n",
       "       'Azimpur', 'Badda', 'Luxibazar', 'Gulistan', 'Mohammadpur',\n",
       "       'Old Town Dhaka', 'Mirpur', 'Farmgate', 'Dhanmondi', 'Bonani',\n",
       "       'Gulshan', 'Elephand Road', 'Khilgaon', 'Azimpur', 'Badda',\n",
       "       'Luxibazar', 'Gulistan', 'Mohammadpur', 'Old Town Dhaka', 'Mirpur',\n",
       "       'Farmgate', 'Dhanmondi', 'Bonani', 'Gulshan', 'Elephand Road',\n",
       "       'Khilgaon', 'Azimpur', 'Badda', 'Luxibazar', 'Gulistan',\n",
       "       'Mohammadpur', 'Old Town Dhaka', 'Mirpur', 'Farmgate', 'Dhanmondi',\n",
       "       'Bonani', 'Gulshan', 'Elephand Road', 'Khilgaon', 'Azimpur',\n",
       "       'Badda', 'Luxibazar', 'Gulistan', 'Mohammadpur', 'Old Town Dhaka',\n",
       "       'Mirpur', 'Farmgate', 'Dhanmondi', 'Bonani', 'Gulshan',\n",
       "       'Elephand Road', 'Khilgaon', 'Azimpur', 'Badda', 'Luxibazar',\n",
       "       'Gulistan', 'Mohammadpur', 'Old Town Dhaka', 'Mirpur', 'Farmgate',\n",
       "       'Dhanmondi', 'Bonani', 'Gulshan', 'Elephand Road', 'Khilgaon',\n",
       "       'Azimpur', 'Badda', 'Luxibazar', 'Gulistan', 'Mohammadpur',\n",
       "       'Old Town Dhaka', 'Mirpur', 'Farmgate', 'Dhanmondi', 'Bonani',\n",
       "       'Gulshan', 'Elephand Road', 'Khilgaon', 'Azimpur', 'Badda',\n",
       "       'Luxibazar', 'Gulistan', 'Mohammadpur', 'Old Town Dhaka', 'Mirpur',\n",
       "       'Farmgate', 'Dhanmondi', 'Bonani', 'Gulshan'], dtype=object)"
      ]
     },
     "execution_count": 5,
     "metadata": {},
     "output_type": "execute_result"
    }
   ],
   "source": [
    "real_y"
   ]
  },
  {
   "cell_type": "code",
   "execution_count": 6,
   "metadata": {},
   "outputs": [],
   "source": [
    "from sklearn.model_selection import train_test_split # aage eta use hotw-->from sklearn.cross_validation import train_test_split\n",
    "training_x,test_x,training_y,test_y = train_test_split(real_x,real_y,test_size = 0.20, random_state=0)"
   ]
  },
  {
   "cell_type": "code",
   "execution_count": 7,
   "metadata": {},
   "outputs": [
    {
     "data": {
      "text/plain": [
       "array([[2004,   10,   10,   10,    8,    7,    7,    7,    7,    9],\n",
       "       [2005,   10,   10,   10,   10,    6,    6,    8,    8,    9],\n",
       "       [2001,    9,    9,    9,    8,    7,    7,    8,    8,    8],\n",
       "       [2006,    7,    7,    7,    7,   11,   11,    6,    6,    8],\n",
       "       [2004,    9,    9,    9,    7,   11,   11,    6,    6,   10],\n",
       "       [2004,    9,    9,    9,   10,   10,   10,    7,    7,    7],\n",
       "       [2001,    9,    9,    9,    7,   11,   11,    6,    6,   10],\n",
       "       [2008,    8,    8,    8,    8,    7,    7,    7,    7,    9],\n",
       "       [2007,    8,    8,    8,    8,    7,    7,    7,    7,   10],\n",
       "       [2006,    8,    8,    8,    7,    7,    7,    8,    8,    9],\n",
       "       [2005,    7,    7,    7,   10,    5,    5,    7,    9,    9],\n",
       "       [2007,    9,    9,    9,    6,    9,    9,    8,    8,    6],\n",
       "       [2007,    8,    8,    8,    7,    7,    7,    8,    8,    9],\n",
       "       [2006,    5,    5,    5,    8,   10,   10,    8,    8,    7],\n",
       "       [2004,    8,    8,    8,    9,    8,    8,    8,    7,    8],\n",
       "       [2003,    8,    8,    8,    6,    8,    8,    7,    7,   11],\n",
       "       [2002,   12,   12,   12,    6,   12,   12,   10,    7,    8],\n",
       "       [2005,    7,    7,    7,    8,    7,    7,    7,    7,    8],\n",
       "       [2005,    8,    8,    8,    7,    7,    7,    8,    8,    9],\n",
       "       [2006,    9,    9,    9,   10,   10,   10,    7,    7,    7],\n",
       "       [2001,    8,    8,    8,    6,    8,    8,    7,    7,   11],\n",
       "       [2005,    9,    9,    9,   10,   10,   10,    7,    7,    7],\n",
       "       [2004,    9,    9,    9,    8,    7,    7,    8,    8,    8],\n",
       "       [2004,   10,   10,   10,    6,    9,    9,    8,    8,    9],\n",
       "       [2001,   10,   10,   10,    8,    7,    7,    7,    7,    9],\n",
       "       [2002,   10,   10,   10,    6,    9,    9,    8,    8,    9],\n",
       "       [2002,   10,   10,   10,    8,    7,    7,    7,    7,    9],\n",
       "       [2004,    8,    8,    8,    6,    8,    8,    7,    7,   11],\n",
       "       [2003,    8,    8,    8,    9,    8,    8,    8,    7,    8],\n",
       "       [2001,   12,   12,   12,    6,   12,   12,   10,    7,    8],\n",
       "       [2007,    8,    8,    8,    9,    8,    8,    8,    7,    8],\n",
       "       [2005,    9,    9,    9,    8,    7,    7,    7,    7,    9],\n",
       "       [2001,   12,   12,   12,    6,    9,    9,    8,    8,   10],\n",
       "       [2003,    8,    8,    8,   10,    5,    5,    7,    9,    8],\n",
       "       [2003,   10,   10,   10,    6,    9,    9,    8,    8,    9],\n",
       "       [2004,    8,    8,    8,    7,    7,    7,    8,    8,    9],\n",
       "       [2001,    8,    8,    8,    7,    7,    7,    8,    8,    9],\n",
       "       [2003,    9,    9,    9,   10,   10,   10,    7,    7,    7],\n",
       "       [2002,   10,   10,   10,   10,    6,    6,    8,    8,    9],\n",
       "       [2005,    6,    6,    6,    6,    7,    7,    8,    8,    9],\n",
       "       [2001,   10,   10,   10,   10,    6,    6,    8,    8,    9],\n",
       "       [2003,   12,   12,   12,    6,   12,   12,   10,    7,    8],\n",
       "       [2006,    8,    8,    8,    6,    5,    5,    7,    7,   10],\n",
       "       [2005,    6,    6,    6,    6,   12,   12,   10,    7,    7],\n",
       "       [2007,    8,    8,    8,    6,    5,    5,    7,    7,   10],\n",
       "       [2007,    9,    9,    9,    8,    7,    7,    7,    7,    8],\n",
       "       [2003,    9,    9,    9,    7,   11,   11,    6,    6,   10],\n",
       "       [2007,    7,    7,    7,    7,   11,   11,    6,    6,    5],\n",
       "       [2002,    8,    8,    8,    6,    8,    8,    7,    7,   11],\n",
       "       [2007,   10,   10,   10,   10,    6,    6,    8,    8,    9],\n",
       "       [2002,    9,    9,    9,    7,   11,   11,    6,    6,   10],\n",
       "       [2003,    9,    9,    9,    8,    7,    7,    8,    8,    8],\n",
       "       [2004,   10,   10,   10,   10,    6,    6,    8,    8,    9],\n",
       "       [2008,    5,    6,    6,    6,   12,   12,   10,    7,    7],\n",
       "       [2008,    5,    5,    5,    7,   11,   11,    6,    6,    8],\n",
       "       [2006,    8,    8,    8,    8,    7,    7,    7,    7,    8],\n",
       "       [2002,    9,    9,    9,    8,    7,    7,    7,    7,    9],\n",
       "       [2008,   10,    8,    9,    6,    9,    9,    8,    8,    5],\n",
       "       [2006,    9,    9,    9,    8,    7,    7,    7,    7,    9],\n",
       "       [2006,    8,    8,    8,    9,    8,    8,    8,    7,    8],\n",
       "       [2002,    8,    8,    8,    9,    8,    8,    8,    7,    8],\n",
       "       [2003,    8,    8,    8,    7,    7,    7,    8,    8,    9],\n",
       "       [2007,   10,   10,   10,    8,   10,   10,    8,    8,    9],\n",
       "       [2004,    9,    9,    9,    8,    7,    7,    7,    7,    9],\n",
       "       [2004,   12,   12,   12,    6,    9,    9,    8,    8,   10],\n",
       "       [2006,    7,    7,    7,    6,    7,    7,    8,    8,    9],\n",
       "       [2005,    7,    7,    7,    7,   11,   11,    6,    6,    8],\n",
       "       [2001,    8,    8,    8,    9,    8,    8,    8,    7,    8],\n",
       "       [2006,    6,    6,    6,    6,   12,   12,   10,    7,    7],\n",
       "       [2007,   10,   10,   10,    8,   10,   10,    7,    7,    7],\n",
       "       [2003,   10,   10,   10,   10,    6,    6,    8,    8,    9],\n",
       "       [2002,    8,    8,    8,   10,    5,    5,    7,    9,    8],\n",
       "       [2007,    6,    6,    6,    6,   12,   12,   10,    7,    9],\n",
       "       [2001,    9,    9,    9,   10,   10,   10,    7,    7,    7],\n",
       "       [2008,    6,    8,    8,    8,    7,    7,    7,    7,    8],\n",
       "       [2006,   10,   10,   10,    6,    9,    9,    8,    8,    5],\n",
       "       [2005,    8,    8,    8,    9,    8,    8,    8,    7,    8],\n",
       "       [2004,    8,    8,    8,   10,    5,    5,    7,    9,    8],\n",
       "       [2004,   12,   12,   12,    6,   12,   12,   10,    7,    8]],\n",
       "      dtype=int64)"
      ]
     },
     "execution_count": 7,
     "metadata": {},
     "output_type": "execute_result"
    }
   ],
   "source": [
    "training_x"
   ]
  },
  {
   "cell_type": "code",
   "execution_count": 8,
   "metadata": {},
   "outputs": [
    {
     "data": {
      "text/plain": [
       "array([[2003,    6,    6,    6,    6,    9,    9,    8,    8,   10],\n",
       "       [2007,    7,    7,    7,   10,    5,    5,    7,    9,    9],\n",
       "       [2001,   10,   10,   10,    6,    9,    9,    8,    8,    9],\n",
       "       [2005,    8,    8,    8,    8,   10,   10,    8,    8,    7],\n",
       "       [2006,   10,   10,   10,   10,    6,    6,    8,    8,    9],\n",
       "       [2008,    6,    7,    8,    6,    5,    5,    7,    7,   10],\n",
       "       [2002,    9,    9,    9,    8,    7,    7,    8,    8,    8],\n",
       "       [2006,    7,    7,    7,   10,    5,    5,    7,    9,    9],\n",
       "       [2005,   10,   10,   10,    6,    9,    9,    8,    8,    5],\n",
       "       [2008,   10,    5,    8,    8,   10,   10,    8,    8,    7],\n",
       "       [2005,    8,    8,    8,    6,    5,    5,    7,    7,   10],\n",
       "       [2008,    9,    9,    9,    6,    7,    7,    8,    8,    9],\n",
       "       [2007,    7,    7,    7,    6,    7,    7,    8,    8,    9],\n",
       "       [2002,    9,    9,    9,    6,    9,    9,    8,    8,   10],\n",
       "       [2001,    9,    9,    9,    8,    7,    7,    7,    7,    9],\n",
       "       [2003,   10,   10,   10,    8,    7,    7,    7,    7,    9],\n",
       "       [2002,    9,    9,    9,   10,   10,   10,    7,    7,    7],\n",
       "       [2002,    8,    8,    8,    7,    7,    7,    8,    8,    9],\n",
       "       [2003,    9,    9,    9,    8,    7,    7,    7,    7,    9],\n",
       "       [2001,    8,    8,    8,   10,    5,    5,    7,    9,    8]],\n",
       "      dtype=int64)"
      ]
     },
     "execution_count": 8,
     "metadata": {},
     "output_type": "execute_result"
    }
   ],
   "source": [
    "test_x"
   ]
  },
  {
   "cell_type": "code",
   "execution_count": 9,
   "metadata": {},
   "outputs": [
    {
     "data": {
      "text/plain": [
       "array([[2004,   10,   10,   10,    8,    7,    7,    7,    7,    9],\n",
       "       [2005,   10,   10,   10,   10,    6,    6,    8,    8,    9],\n",
       "       [2001,    9,    9,    9,    8,    7,    7,    8,    8,    8],\n",
       "       [2006,    7,    7,    7,    7,   11,   11,    6,    6,    8],\n",
       "       [2004,    9,    9,    9,    7,   11,   11,    6,    6,   10],\n",
       "       [2004,    9,    9,    9,   10,   10,   10,    7,    7,    7],\n",
       "       [2001,    9,    9,    9,    7,   11,   11,    6,    6,   10],\n",
       "       [2008,    8,    8,    8,    8,    7,    7,    7,    7,    9],\n",
       "       [2007,    8,    8,    8,    8,    7,    7,    7,    7,   10],\n",
       "       [2006,    8,    8,    8,    7,    7,    7,    8,    8,    9],\n",
       "       [2005,    7,    7,    7,   10,    5,    5,    7,    9,    9],\n",
       "       [2007,    9,    9,    9,    6,    9,    9,    8,    8,    6],\n",
       "       [2007,    8,    8,    8,    7,    7,    7,    8,    8,    9],\n",
       "       [2006,    5,    5,    5,    8,   10,   10,    8,    8,    7],\n",
       "       [2004,    8,    8,    8,    9,    8,    8,    8,    7,    8],\n",
       "       [2003,    8,    8,    8,    6,    8,    8,    7,    7,   11],\n",
       "       [2002,   12,   12,   12,    6,   12,   12,   10,    7,    8],\n",
       "       [2005,    7,    7,    7,    8,    7,    7,    7,    7,    8],\n",
       "       [2005,    8,    8,    8,    7,    7,    7,    8,    8,    9],\n",
       "       [2006,    9,    9,    9,   10,   10,   10,    7,    7,    7],\n",
       "       [2001,    8,    8,    8,    6,    8,    8,    7,    7,   11],\n",
       "       [2005,    9,    9,    9,   10,   10,   10,    7,    7,    7],\n",
       "       [2004,    9,    9,    9,    8,    7,    7,    8,    8,    8],\n",
       "       [2004,   10,   10,   10,    6,    9,    9,    8,    8,    9],\n",
       "       [2001,   10,   10,   10,    8,    7,    7,    7,    7,    9],\n",
       "       [2002,   10,   10,   10,    6,    9,    9,    8,    8,    9],\n",
       "       [2002,   10,   10,   10,    8,    7,    7,    7,    7,    9],\n",
       "       [2004,    8,    8,    8,    6,    8,    8,    7,    7,   11],\n",
       "       [2003,    8,    8,    8,    9,    8,    8,    8,    7,    8],\n",
       "       [2001,   12,   12,   12,    6,   12,   12,   10,    7,    8],\n",
       "       [2007,    8,    8,    8,    9,    8,    8,    8,    7,    8],\n",
       "       [2005,    9,    9,    9,    8,    7,    7,    7,    7,    9],\n",
       "       [2001,   12,   12,   12,    6,    9,    9,    8,    8,   10],\n",
       "       [2003,    8,    8,    8,   10,    5,    5,    7,    9,    8],\n",
       "       [2003,   10,   10,   10,    6,    9,    9,    8,    8,    9],\n",
       "       [2004,    8,    8,    8,    7,    7,    7,    8,    8,    9],\n",
       "       [2001,    8,    8,    8,    7,    7,    7,    8,    8,    9],\n",
       "       [2003,    9,    9,    9,   10,   10,   10,    7,    7,    7],\n",
       "       [2002,   10,   10,   10,   10,    6,    6,    8,    8,    9],\n",
       "       [2005,    6,    6,    6,    6,    7,    7,    8,    8,    9],\n",
       "       [2001,   10,   10,   10,   10,    6,    6,    8,    8,    9],\n",
       "       [2003,   12,   12,   12,    6,   12,   12,   10,    7,    8],\n",
       "       [2006,    8,    8,    8,    6,    5,    5,    7,    7,   10],\n",
       "       [2005,    6,    6,    6,    6,   12,   12,   10,    7,    7],\n",
       "       [2007,    8,    8,    8,    6,    5,    5,    7,    7,   10],\n",
       "       [2007,    9,    9,    9,    8,    7,    7,    7,    7,    8],\n",
       "       [2003,    9,    9,    9,    7,   11,   11,    6,    6,   10],\n",
       "       [2007,    7,    7,    7,    7,   11,   11,    6,    6,    5],\n",
       "       [2002,    8,    8,    8,    6,    8,    8,    7,    7,   11],\n",
       "       [2007,   10,   10,   10,   10,    6,    6,    8,    8,    9],\n",
       "       [2002,    9,    9,    9,    7,   11,   11,    6,    6,   10],\n",
       "       [2003,    9,    9,    9,    8,    7,    7,    8,    8,    8],\n",
       "       [2004,   10,   10,   10,   10,    6,    6,    8,    8,    9],\n",
       "       [2008,    5,    6,    6,    6,   12,   12,   10,    7,    7],\n",
       "       [2008,    5,    5,    5,    7,   11,   11,    6,    6,    8],\n",
       "       [2006,    8,    8,    8,    8,    7,    7,    7,    7,    8],\n",
       "       [2002,    9,    9,    9,    8,    7,    7,    7,    7,    9],\n",
       "       [2008,   10,    8,    9,    6,    9,    9,    8,    8,    5],\n",
       "       [2006,    9,    9,    9,    8,    7,    7,    7,    7,    9],\n",
       "       [2006,    8,    8,    8,    9,    8,    8,    8,    7,    8],\n",
       "       [2002,    8,    8,    8,    9,    8,    8,    8,    7,    8],\n",
       "       [2003,    8,    8,    8,    7,    7,    7,    8,    8,    9],\n",
       "       [2007,   10,   10,   10,    8,   10,   10,    8,    8,    9],\n",
       "       [2004,    9,    9,    9,    8,    7,    7,    7,    7,    9],\n",
       "       [2004,   12,   12,   12,    6,    9,    9,    8,    8,   10],\n",
       "       [2006,    7,    7,    7,    6,    7,    7,    8,    8,    9],\n",
       "       [2005,    7,    7,    7,    7,   11,   11,    6,    6,    8],\n",
       "       [2001,    8,    8,    8,    9,    8,    8,    8,    7,    8],\n",
       "       [2006,    6,    6,    6,    6,   12,   12,   10,    7,    7],\n",
       "       [2007,   10,   10,   10,    8,   10,   10,    7,    7,    7],\n",
       "       [2003,   10,   10,   10,   10,    6,    6,    8,    8,    9],\n",
       "       [2002,    8,    8,    8,   10,    5,    5,    7,    9,    8],\n",
       "       [2007,    6,    6,    6,    6,   12,   12,   10,    7,    9],\n",
       "       [2001,    9,    9,    9,   10,   10,   10,    7,    7,    7],\n",
       "       [2008,    6,    8,    8,    8,    7,    7,    7,    7,    8],\n",
       "       [2006,   10,   10,   10,    6,    9,    9,    8,    8,    5],\n",
       "       [2005,    8,    8,    8,    9,    8,    8,    8,    7,    8],\n",
       "       [2004,    8,    8,    8,   10,    5,    5,    7,    9,    8],\n",
       "       [2004,   12,   12,   12,    6,   12,   12,   10,    7,    8]],\n",
       "      dtype=int64)"
      ]
     },
     "execution_count": 9,
     "metadata": {},
     "output_type": "execute_result"
    }
   ],
   "source": [
    "training_x  # ei kane dektesi Data -2 theke +2 er bitore "
   ]
  },
  {
   "cell_type": "code",
   "execution_count": 10,
   "metadata": {},
   "outputs": [
    {
     "data": {
      "text/plain": [
       "array([[2003,    6,    6,    6,    6,    9,    9,    8,    8,   10],\n",
       "       [2007,    7,    7,    7,   10,    5,    5,    7,    9,    9],\n",
       "       [2001,   10,   10,   10,    6,    9,    9,    8,    8,    9],\n",
       "       [2005,    8,    8,    8,    8,   10,   10,    8,    8,    7],\n",
       "       [2006,   10,   10,   10,   10,    6,    6,    8,    8,    9],\n",
       "       [2008,    6,    7,    8,    6,    5,    5,    7,    7,   10],\n",
       "       [2002,    9,    9,    9,    8,    7,    7,    8,    8,    8],\n",
       "       [2006,    7,    7,    7,   10,    5,    5,    7,    9,    9],\n",
       "       [2005,   10,   10,   10,    6,    9,    9,    8,    8,    5],\n",
       "       [2008,   10,    5,    8,    8,   10,   10,    8,    8,    7],\n",
       "       [2005,    8,    8,    8,    6,    5,    5,    7,    7,   10],\n",
       "       [2008,    9,    9,    9,    6,    7,    7,    8,    8,    9],\n",
       "       [2007,    7,    7,    7,    6,    7,    7,    8,    8,    9],\n",
       "       [2002,    9,    9,    9,    6,    9,    9,    8,    8,   10],\n",
       "       [2001,    9,    9,    9,    8,    7,    7,    7,    7,    9],\n",
       "       [2003,   10,   10,   10,    8,    7,    7,    7,    7,    9],\n",
       "       [2002,    9,    9,    9,   10,   10,   10,    7,    7,    7],\n",
       "       [2002,    8,    8,    8,    7,    7,    7,    8,    8,    9],\n",
       "       [2003,    9,    9,    9,    8,    7,    7,    7,    7,    9],\n",
       "       [2001,    8,    8,    8,   10,    5,    5,    7,    9,    8]],\n",
       "      dtype=int64)"
      ]
     },
     "execution_count": 10,
     "metadata": {},
     "output_type": "execute_result"
    }
   ],
   "source": [
    "test_x      # ei kane dektesi Data -2 theke +2 er bitore "
   ]
  },
  {
   "cell_type": "code",
   "execution_count": 11,
   "metadata": {},
   "outputs": [],
   "source": [
    "from sklearn.neighbors import KNeighborsClassifier"
   ]
  },
  {
   "cell_type": "code",
   "execution_count": 12,
   "metadata": {},
   "outputs": [
    {
     "data": {
      "text/plain": [
       "KNeighborsClassifier()"
      ]
     },
     "execution_count": 12,
     "metadata": {},
     "output_type": "execute_result"
    }
   ],
   "source": [
    "classifer = KNeighborsClassifier(n_neighbors=5,metric='minkowski',p=2)\n",
    "classifer.fit(training_x,training_y)"
   ]
  },
  {
   "cell_type": "code",
   "execution_count": 13,
   "metadata": {},
   "outputs": [
    {
     "data": {
      "text/plain": [
       "array(['Mohammadpur', 'Elephand Road', 'Old Town Dhaka', 'Khilgaon',\n",
       "       'Azimpur', 'Mohammadpur', 'Mirpur', 'Elephand Road',\n",
       "       'Old Town Dhaka', 'Luxibazar', 'Badda', 'Gulshan', 'Badda',\n",
       "       'Old Town Dhaka', 'Farmgate', 'Farmgate', 'Khilgaon', 'Badda',\n",
       "       'Farmgate', 'Elephand Road'], dtype=object)"
      ]
     },
     "execution_count": 13,
     "metadata": {},
     "output_type": "execute_result"
    }
   ],
   "source": [
    "y_pred = classifer.predict(test_x)\n",
    "y_pred # Prediction er value"
   ]
  },
  {
   "cell_type": "code",
   "execution_count": 14,
   "metadata": {},
   "outputs": [
    {
     "data": {
      "text/plain": [
       "array(['Gulistan', 'Elephand Road', 'Old Town Dhaka', 'Mirpur', 'Azimpur',\n",
       "       'Mohammadpur', 'Mirpur', 'Elephand Road', 'Old Town Dhaka',\n",
       "       'Mirpur', 'Mohammadpur', 'Gulistan', 'Gulistan', 'Gulistan',\n",
       "       'Gulshan', 'Farmgate', 'Khilgaon', 'Badda', 'Gulshan',\n",
       "       'Elephand Road'], dtype=object)"
      ]
     },
     "execution_count": 14,
     "metadata": {},
     "output_type": "execute_result"
    }
   ],
   "source": [
    "test_y  # Real Data er value"
   ]
  },
  {
   "cell_type": "markdown",
   "metadata": {},
   "source": [
    "# confus_matrix"
   ]
  },
  {
   "cell_type": "code",
   "execution_count": 15,
   "metadata": {},
   "outputs": [],
   "source": [
    "from sklearn.metrics import confusion_matrix"
   ]
  },
  {
   "cell_type": "code",
   "execution_count": 16,
   "metadata": {},
   "outputs": [
    {
     "data": {
      "text/plain": [
       "array([[1, 0, 0, 0, 0, 0, 0, 0, 0, 0, 0],\n",
       "       [0, 1, 0, 0, 0, 0, 0, 0, 0, 0, 0],\n",
       "       [0, 0, 3, 0, 0, 0, 0, 0, 0, 0, 0],\n",
       "       [0, 0, 0, 1, 0, 0, 0, 0, 0, 0, 0],\n",
       "       [0, 1, 0, 0, 0, 1, 0, 0, 0, 1, 1],\n",
       "       [0, 0, 0, 2, 0, 0, 0, 0, 0, 0, 0],\n",
       "       [0, 0, 0, 0, 0, 0, 1, 0, 0, 0, 0],\n",
       "       [0, 0, 0, 0, 0, 0, 0, 0, 0, 0, 0],\n",
       "       [0, 0, 0, 0, 0, 0, 1, 1, 1, 0, 0],\n",
       "       [0, 1, 0, 0, 0, 0, 0, 0, 0, 1, 0],\n",
       "       [0, 0, 0, 0, 0, 0, 0, 0, 0, 0, 2]], dtype=int64)"
      ]
     },
     "execution_count": 16,
     "metadata": {},
     "output_type": "execute_result"
    }
   ],
   "source": [
    "confus_matrix = confusion_matrix(test_y,y_pred)  # y_true = Real Value, y_pred = Prediction er value\n",
    "confus_matrix"
   ]
  },
  {
   "cell_type": "markdown",
   "metadata": {},
   "source": [
    "# Accuracy"
   ]
  },
  {
   "cell_type": "code",
   "execution_count": 17,
   "metadata": {},
   "outputs": [
    {
     "name": "stdout",
     "output_type": "stream",
     "text": [
      "Accuracy :  0.55\n"
     ]
    }
   ],
   "source": [
    "from sklearn.metrics import accuracy_score \n",
    "print (\"Accuracy : \", accuracy_score(test_y, y_pred))"
   ]
  },
  {
   "cell_type": "code",
   "execution_count": 18,
   "metadata": {},
   "outputs": [
    {
     "name": "stdout",
     "output_type": "stream",
     "text": [
      "55.00000000000001\n"
     ]
    }
   ],
   "source": [
    "print (accuracy_score(test_y, y_pred)*100) # Accuracy"
   ]
  },
  {
   "cell_type": "markdown",
   "metadata": {},
   "source": [
    "# precision, recall, f1-score, support"
   ]
  },
  {
   "cell_type": "code",
   "execution_count": 19,
   "metadata": {},
   "outputs": [
    {
     "name": "stdout",
     "output_type": "stream",
     "text": [
      "                precision    recall  f1-score   support\n",
      "\n",
      "       Azimpur       1.00      1.00      1.00         1\n",
      "         Badda       0.33      1.00      0.50         1\n",
      " Elephand Road       1.00      1.00      1.00         3\n",
      "      Farmgate       0.33      1.00      0.50         1\n",
      "      Gulistan       0.00      0.00      0.00         4\n",
      "       Gulshan       0.00      0.00      0.00         2\n",
      "      Khilgaon       0.50      1.00      0.67         1\n",
      "     Luxibazar       0.00      0.00      0.00         0\n",
      "        Mirpur       1.00      0.33      0.50         3\n",
      "   Mohammadpur       0.50      0.50      0.50         2\n",
      "Old Town Dhaka       0.67      1.00      0.80         2\n",
      "\n",
      "      accuracy                           0.55        20\n",
      "     macro avg       0.48      0.62      0.50        20\n",
      "  weighted avg       0.53      0.55      0.49        20\n",
      "\n"
     ]
    },
    {
     "name": "stderr",
     "output_type": "stream",
     "text": [
      "C:\\Users\\Nayeem\\.conda\\envs\\tensorflow 3_7\\lib\\site-packages\\sklearn\\metrics\\_classification.py:1221: UndefinedMetricWarning: Precision and F-score are ill-defined and being set to 0.0 in labels with no predicted samples. Use `zero_division` parameter to control this behavior.\n",
      "  _warn_prf(average, modifier, msg_start, len(result))\n",
      "C:\\Users\\Nayeem\\.conda\\envs\\tensorflow 3_7\\lib\\site-packages\\sklearn\\metrics\\_classification.py:1221: UndefinedMetricWarning: Recall and F-score are ill-defined and being set to 0.0 in labels with no true samples. Use `zero_division` parameter to control this behavior.\n",
      "  _warn_prf(average, modifier, msg_start, len(result))\n"
     ]
    }
   ],
   "source": [
    "from sklearn.metrics import classification_report\n",
    "print(classification_report(test_y, y_pred))"
   ]
  },
  {
   "cell_type": "code",
   "execution_count": null,
   "metadata": {},
   "outputs": [],
   "source": []
  },
  {
   "cell_type": "code",
   "execution_count": null,
   "metadata": {},
   "outputs": [],
   "source": []
  },
  {
   "cell_type": "code",
   "execution_count": null,
   "metadata": {},
   "outputs": [],
   "source": []
  }
 ],
 "metadata": {
  "kernelspec": {
   "display_name": "Python 3",
   "language": "python",
   "name": "python3"
  },
  "language_info": {
   "codemirror_mode": {
    "name": "ipython",
    "version": 3
   },
   "file_extension": ".py",
   "mimetype": "text/x-python",
   "name": "python",
   "nbconvert_exporter": "python",
   "pygments_lexer": "ipython3",
   "version": "3.7.9"
  }
 },
 "nbformat": 4,
 "nbformat_minor": 4
}
