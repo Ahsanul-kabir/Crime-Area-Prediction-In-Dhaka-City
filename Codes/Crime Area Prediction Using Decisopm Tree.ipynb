{
 "cells": [
  {
   "cell_type": "code",
   "execution_count": 27,
   "metadata": {},
   "outputs": [],
   "source": [
    "import pandas as pd\n",
    "import numpy as np\n",
    "import matplotlib.pyplot as plt"
   ]
  },
  {
   "cell_type": "code",
   "execution_count": 2,
   "metadata": {},
   "outputs": [
    {
     "data": {
      "text/html": [
       "<div>\n",
       "<style scoped>\n",
       "    .dataframe tbody tr th:only-of-type {\n",
       "        vertical-align: middle;\n",
       "    }\n",
       "\n",
       "    .dataframe tbody tr th {\n",
       "        vertical-align: top;\n",
       "    }\n",
       "\n",
       "    .dataframe thead th {\n",
       "        text-align: right;\n",
       "    }\n",
       "</style>\n",
       "<table border=\"1\" class=\"dataframe\">\n",
       "  <thead>\n",
       "    <tr style=\"text-align: right;\">\n",
       "      <th></th>\n",
       "      <th>YEAR</th>\n",
       "      <th>SNATCHING</th>\n",
       "      <th>THEFT</th>\n",
       "      <th>ROBERRY</th>\n",
       "      <th>WOMEN HARASSMENT</th>\n",
       "      <th>CHEATING</th>\n",
       "      <th>FRAUD</th>\n",
       "      <th>CHILD ABUSE</th>\n",
       "      <th>ATTEMPT TO MURDER</th>\n",
       "      <th>RAPE</th>\n",
       "      <th>STATE</th>\n",
       "    </tr>\n",
       "  </thead>\n",
       "  <tbody>\n",
       "    <tr>\n",
       "      <th>0</th>\n",
       "      <td>2001</td>\n",
       "      <td>12</td>\n",
       "      <td>12</td>\n",
       "      <td>12</td>\n",
       "      <td>6</td>\n",
       "      <td>9</td>\n",
       "      <td>9</td>\n",
       "      <td>8</td>\n",
       "      <td>8</td>\n",
       "      <td>10</td>\n",
       "      <td>Gulistan</td>\n",
       "    </tr>\n",
       "    <tr>\n",
       "      <th>1</th>\n",
       "      <td>2001</td>\n",
       "      <td>8</td>\n",
       "      <td>8</td>\n",
       "      <td>8</td>\n",
       "      <td>6</td>\n",
       "      <td>8</td>\n",
       "      <td>8</td>\n",
       "      <td>7</td>\n",
       "      <td>7</td>\n",
       "      <td>11</td>\n",
       "      <td>Mohammadpur</td>\n",
       "    </tr>\n",
       "    <tr>\n",
       "      <th>2</th>\n",
       "      <td>2001</td>\n",
       "      <td>10</td>\n",
       "      <td>10</td>\n",
       "      <td>10</td>\n",
       "      <td>6</td>\n",
       "      <td>9</td>\n",
       "      <td>9</td>\n",
       "      <td>8</td>\n",
       "      <td>8</td>\n",
       "      <td>9</td>\n",
       "      <td>Old Town Dhaka</td>\n",
       "    </tr>\n",
       "    <tr>\n",
       "      <th>3</th>\n",
       "      <td>2001</td>\n",
       "      <td>9</td>\n",
       "      <td>9</td>\n",
       "      <td>9</td>\n",
       "      <td>8</td>\n",
       "      <td>7</td>\n",
       "      <td>7</td>\n",
       "      <td>8</td>\n",
       "      <td>8</td>\n",
       "      <td>8</td>\n",
       "      <td>Mirpur</td>\n",
       "    </tr>\n",
       "    <tr>\n",
       "      <th>4</th>\n",
       "      <td>2001</td>\n",
       "      <td>10</td>\n",
       "      <td>10</td>\n",
       "      <td>10</td>\n",
       "      <td>8</td>\n",
       "      <td>7</td>\n",
       "      <td>7</td>\n",
       "      <td>7</td>\n",
       "      <td>7</td>\n",
       "      <td>9</td>\n",
       "      <td>Farmgate</td>\n",
       "    </tr>\n",
       "  </tbody>\n",
       "</table>\n",
       "</div>"
      ],
      "text/plain": [
       "   YEAR  SNATCHING  THEFT  ROBERRY  WOMEN HARASSMENT  CHEATING  FRAUD  \\\n",
       "0  2001         12     12       12                 6         9      9   \n",
       "1  2001          8      8        8                 6         8      8   \n",
       "2  2001         10     10       10                 6         9      9   \n",
       "3  2001          9      9        9                 8         7      7   \n",
       "4  2001         10     10       10                 8         7      7   \n",
       "\n",
       "   CHILD ABUSE  ATTEMPT TO MURDER  RAPE           STATE  \n",
       "0            8                  8    10        Gulistan  \n",
       "1            7                  7    11     Mohammadpur  \n",
       "2            8                  8     9  Old Town Dhaka  \n",
       "3            8                  8     8          Mirpur  \n",
       "4            7                  7     9        Farmgate  "
      ]
     },
     "execution_count": 2,
     "metadata": {},
     "output_type": "execute_result"
    }
   ],
   "source": [
    "data = pd.read_csv('Crime-Prediction-Dataset-1.csv')\n",
    "data.head(5)"
   ]
  },
  {
   "cell_type": "code",
   "execution_count": 3,
   "metadata": {},
   "outputs": [],
   "source": [
    "# ei khane data ke 2 way te devide korbo\n",
    "# input multiple hbe but output sudu ekta tai hbe\n",
    "\n",
    "real_x = data.iloc[:,:10].values\n",
    "real_y = data.iloc[:,10].values"
   ]
  },
  {
   "cell_type": "code",
   "execution_count": 4,
   "metadata": {},
   "outputs": [
    {
     "data": {
      "text/plain": [
       "array([[2001,   12,   12,   12,    6,    9,    9,    8,    8,   10],\n",
       "       [2001,    8,    8,    8,    6,    8,    8,    7,    7,   11],\n",
       "       [2001,   10,   10,   10,    6,    9,    9,    8,    8,    9],\n",
       "       [2001,    9,    9,    9,    8,    7,    7,    8,    8,    8],\n",
       "       [2001,   10,   10,   10,    8,    7,    7,    7,    7,    9],\n",
       "       [2001,   12,   12,   12,    6,   12,   12,   10,    7,    8],\n",
       "       [2001,    9,    9,    9,    7,   11,   11,    6,    6,   10],\n",
       "       [2001,    9,    9,    9,    8,    7,    7,    7,    7,    9],\n",
       "       [2001,    8,    8,    8,   10,    5,    5,    7,    9,    8],\n",
       "       [2001,    9,    9,    9,   10,   10,   10,    7,    7,    7],\n",
       "       [2001,   10,   10,   10,   10,    6,    6,    8,    8,    9],\n",
       "       [2001,    8,    8,    8,    7,    7,    7,    8,    8,    9],\n",
       "       [2001,    8,    8,    8,    9,    8,    8,    8,    7,    8],\n",
       "       [2002,    9,    9,    9,    6,    9,    9,    8,    8,   10],\n",
       "       [2002,    8,    8,    8,    6,    8,    8,    7,    7,   11],\n",
       "       [2002,   10,   10,   10,    6,    9,    9,    8,    8,    9],\n",
       "       [2002,    9,    9,    9,    8,    7,    7,    8,    8,    8],\n",
       "       [2002,   10,   10,   10,    8,    7,    7,    7,    7,    9],\n",
       "       [2002,   12,   12,   12,    6,   12,   12,   10,    7,    8],\n",
       "       [2002,    9,    9,    9,    7,   11,   11,    6,    6,   10],\n",
       "       [2002,    9,    9,    9,    8,    7,    7,    7,    7,    9],\n",
       "       [2002,    8,    8,    8,   10,    5,    5,    7,    9,    8],\n",
       "       [2002,    9,    9,    9,   10,   10,   10,    7,    7,    7],\n",
       "       [2002,   10,   10,   10,   10,    6,    6,    8,    8,    9],\n",
       "       [2002,    8,    8,    8,    7,    7,    7,    8,    8,    9],\n",
       "       [2002,    8,    8,    8,    9,    8,    8,    8,    7,    8],\n",
       "       [2003,    6,    6,    6,    6,    9,    9,    8,    8,   10],\n",
       "       [2003,    8,    8,    8,    6,    8,    8,    7,    7,   11],\n",
       "       [2003,   10,   10,   10,    6,    9,    9,    8,    8,    9],\n",
       "       [2003,    9,    9,    9,    8,    7,    7,    8,    8,    8],\n",
       "       [2003,   10,   10,   10,    8,    7,    7,    7,    7,    9],\n",
       "       [2003,   12,   12,   12,    6,   12,   12,   10,    7,    8],\n",
       "       [2003,    9,    9,    9,    7,   11,   11,    6,    6,   10],\n",
       "       [2003,    9,    9,    9,    8,    7,    7,    7,    7,    9],\n",
       "       [2003,    8,    8,    8,   10,    5,    5,    7,    9,    8],\n",
       "       [2003,    9,    9,    9,   10,   10,   10,    7,    7,    7],\n",
       "       [2003,   10,   10,   10,   10,    6,    6,    8,    8,    9],\n",
       "       [2003,    8,    8,    8,    7,    7,    7,    8,    8,    9],\n",
       "       [2003,    8,    8,    8,    9,    8,    8,    8,    7,    8],\n",
       "       [2004,   12,   12,   12,    6,    9,    9,    8,    8,   10],\n",
       "       [2004,    8,    8,    8,    6,    8,    8,    7,    7,   11],\n",
       "       [2004,   10,   10,   10,    6,    9,    9,    8,    8,    9],\n",
       "       [2004,    9,    9,    9,    8,    7,    7,    8,    8,    8],\n",
       "       [2004,   10,   10,   10,    8,    7,    7,    7,    7,    9],\n",
       "       [2004,   12,   12,   12,    6,   12,   12,   10,    7,    8],\n",
       "       [2004,    9,    9,    9,    7,   11,   11,    6,    6,   10],\n",
       "       [2004,    9,    9,    9,    8,    7,    7,    7,    7,    9],\n",
       "       [2004,    8,    8,    8,   10,    5,    5,    7,    9,    8],\n",
       "       [2004,    9,    9,    9,   10,   10,   10,    7,    7,    7],\n",
       "       [2004,   10,   10,   10,   10,    6,    6,    8,    8,    9],\n",
       "       [2004,    8,    8,    8,    7,    7,    7,    8,    8,    9],\n",
       "       [2004,    8,    8,    8,    9,    8,    8,    8,    7,    8],\n",
       "       [2005,    6,    6,    6,    6,    7,    7,    8,    8,    9],\n",
       "       [2005,    8,    8,    8,    6,    5,    5,    7,    7,   10],\n",
       "       [2005,   10,   10,   10,    6,    9,    9,    8,    8,    5],\n",
       "       [2005,    8,    8,    8,    8,   10,   10,    8,    8,    7],\n",
       "       [2005,    7,    7,    7,    8,    7,    7,    7,    7,    8],\n",
       "       [2005,    6,    6,    6,    6,   12,   12,   10,    7,    7],\n",
       "       [2005,    7,    7,    7,    7,   11,   11,    6,    6,    8],\n",
       "       [2005,    9,    9,    9,    8,    7,    7,    7,    7,    9],\n",
       "       [2005,    7,    7,    7,   10,    5,    5,    7,    9,    9],\n",
       "       [2005,    9,    9,    9,   10,   10,   10,    7,    7,    7],\n",
       "       [2005,   10,   10,   10,   10,    6,    6,    8,    8,    9],\n",
       "       [2005,    8,    8,    8,    7,    7,    7,    8,    8,    9],\n",
       "       [2005,    8,    8,    8,    9,    8,    8,    8,    7,    8],\n",
       "       [2006,    7,    7,    7,    6,    7,    7,    8,    8,    9],\n",
       "       [2006,    8,    8,    8,    6,    5,    5,    7,    7,   10],\n",
       "       [2006,   10,   10,   10,    6,    9,    9,    8,    8,    5],\n",
       "       [2006,    5,    5,    5,    8,   10,   10,    8,    8,    7],\n",
       "       [2006,    8,    8,    8,    8,    7,    7,    7,    7,    8],\n",
       "       [2006,    6,    6,    6,    6,   12,   12,   10,    7,    7],\n",
       "       [2006,    7,    7,    7,    7,   11,   11,    6,    6,    8],\n",
       "       [2006,    9,    9,    9,    8,    7,    7,    7,    7,    9],\n",
       "       [2006,    7,    7,    7,   10,    5,    5,    7,    9,    9],\n",
       "       [2006,    9,    9,    9,   10,   10,   10,    7,    7,    7],\n",
       "       [2006,   10,   10,   10,   10,    6,    6,    8,    8,    9],\n",
       "       [2006,    8,    8,    8,    7,    7,    7,    8,    8,    9],\n",
       "       [2006,    8,    8,    8,    9,    8,    8,    8,    7,    8],\n",
       "       [2007,    7,    7,    7,    6,    7,    7,    8,    8,    9],\n",
       "       [2007,    8,    8,    8,    6,    5,    5,    7,    7,   10],\n",
       "       [2007,    9,    9,    9,    6,    9,    9,    8,    8,    6],\n",
       "       [2007,   10,   10,   10,    8,   10,   10,    8,    8,    9],\n",
       "       [2007,    8,    8,    8,    8,    7,    7,    7,    7,   10],\n",
       "       [2007,    6,    6,    6,    6,   12,   12,   10,    7,    9],\n",
       "       [2007,    7,    7,    7,    7,   11,   11,    6,    6,    5],\n",
       "       [2007,    9,    9,    9,    8,    7,    7,    7,    7,    8],\n",
       "       [2007,    7,    7,    7,   10,    5,    5,    7,    9,    9],\n",
       "       [2007,   10,   10,   10,    8,   10,   10,    7,    7,    7],\n",
       "       [2007,   10,   10,   10,   10,    6,    6,    8,    8,    9],\n",
       "       [2007,    8,    8,    8,    7,    7,    7,    8,    8,    9],\n",
       "       [2007,    8,    8,    8,    9,    8,    8,    8,    7,    8],\n",
       "       [2008,    9,    9,    9,    6,    7,    7,    8,    8,    9],\n",
       "       [2008,    6,    7,    8,    6,    5,    5,    7,    7,   10],\n",
       "       [2008,   10,    8,    9,    6,    9,    9,    8,    8,    5],\n",
       "       [2008,   10,    5,    8,    8,   10,   10,    8,    8,    7],\n",
       "       [2008,    6,    8,    8,    8,    7,    7,    7,    7,    8],\n",
       "       [2008,    5,    6,    6,    6,   12,   12,   10,    7,    7],\n",
       "       [2008,    5,    5,    5,    7,   11,   11,    6,    6,    8],\n",
       "       [2008,    8,    8,    8,    8,    7,    7,    7,    7,    9]],\n",
       "      dtype=int64)"
      ]
     },
     "execution_count": 4,
     "metadata": {},
     "output_type": "execute_result"
    }
   ],
   "source": [
    "real_x"
   ]
  },
  {
   "cell_type": "code",
   "execution_count": 5,
   "metadata": {},
   "outputs": [
    {
     "data": {
      "text/plain": [
       "array(['Gulistan', 'Mohammadpur', 'Old Town Dhaka', 'Mirpur', 'Farmgate',\n",
       "       'Dhanmondi', 'Bonani', 'Gulshan', 'Elephand Road', 'Khilgaon',\n",
       "       'Azimpur', 'Badda', 'Luxibazar', 'Gulistan', 'Mohammadpur',\n",
       "       'Old Town Dhaka', 'Mirpur', 'Farmgate', 'Dhanmondi', 'Bonani',\n",
       "       'Gulshan', 'Elephand Road', 'Khilgaon', 'Azimpur', 'Badda',\n",
       "       'Luxibazar', 'Gulistan', 'Mohammadpur', 'Old Town Dhaka', 'Mirpur',\n",
       "       'Farmgate', 'Dhanmondi', 'Bonani', 'Gulshan', 'Elephand Road',\n",
       "       'Khilgaon', 'Azimpur', 'Badda', 'Luxibazar', 'Gulistan',\n",
       "       'Mohammadpur', 'Old Town Dhaka', 'Mirpur', 'Farmgate', 'Dhanmondi',\n",
       "       'Bonani', 'Gulshan', 'Elephand Road', 'Khilgaon', 'Azimpur',\n",
       "       'Badda', 'Luxibazar', 'Gulistan', 'Mohammadpur', 'Old Town Dhaka',\n",
       "       'Mirpur', 'Farmgate', 'Dhanmondi', 'Bonani', 'Gulshan',\n",
       "       'Elephand Road', 'Khilgaon', 'Azimpur', 'Badda', 'Luxibazar',\n",
       "       'Gulistan', 'Mohammadpur', 'Old Town Dhaka', 'Mirpur', 'Farmgate',\n",
       "       'Dhanmondi', 'Bonani', 'Gulshan', 'Elephand Road', 'Khilgaon',\n",
       "       'Azimpur', 'Badda', 'Luxibazar', 'Gulistan', 'Mohammadpur',\n",
       "       'Old Town Dhaka', 'Mirpur', 'Farmgate', 'Dhanmondi', 'Bonani',\n",
       "       'Gulshan', 'Elephand Road', 'Khilgaon', 'Azimpur', 'Badda',\n",
       "       'Luxibazar', 'Gulistan', 'Mohammadpur', 'Old Town Dhaka', 'Mirpur',\n",
       "       'Farmgate', 'Dhanmondi', 'Bonani', 'Gulshan'], dtype=object)"
      ]
     },
     "execution_count": 5,
     "metadata": {},
     "output_type": "execute_result"
    }
   ],
   "source": [
    "real_y"
   ]
  },
  {
   "cell_type": "code",
   "execution_count": 6,
   "metadata": {},
   "outputs": [],
   "source": [
    "#from sklearn import tree"
   ]
  },
  {
   "cell_type": "code",
   "execution_count": 7,
   "metadata": {},
   "outputs": [],
   "source": [
    "#classify1 = tree.DecisionTreeClassifier()"
   ]
  },
  {
   "cell_type": "code",
   "execution_count": 8,
   "metadata": {},
   "outputs": [],
   "source": [
    "#classify1 = classify1.fit(real_x,real_y)"
   ]
  },
  {
   "cell_type": "code",
   "execution_count": 9,
   "metadata": {},
   "outputs": [],
   "source": [
    "#prediction_disease = classify1.predict([[1,0,0,0,0,0,1,0,1,0,0,1,0,1,0,0,0,0,0]])"
   ]
  },
  {
   "cell_type": "code",
   "execution_count": 10,
   "metadata": {},
   "outputs": [],
   "source": [
    "#prediction_disease"
   ]
  },
  {
   "cell_type": "code",
   "execution_count": 11,
   "metadata": {},
   "outputs": [],
   "source": [
    "#prediction_disease = classify1.predict([[0,1,1,0,0,0,0,0,1,1,1,1,0,0,0,0,0,1,0]])"
   ]
  },
  {
   "cell_type": "code",
   "execution_count": 12,
   "metadata": {},
   "outputs": [],
   "source": [
    "#prediction_disease"
   ]
  },
  {
   "cell_type": "code",
   "execution_count": 13,
   "metadata": {},
   "outputs": [],
   "source": [
    "# Supervised learning e ... dataset -->> traing ar testing dataset e divided kora hoy\n",
    "# training er data ... 70-80 % rakte hbe er theke besi ora kom hote parbe na \n",
    "# testing er data ... baki % e rakbo\n",
    "\n",
    "\n",
    "from sklearn.model_selection import train_test_split  # divide korar jonno library\n",
    "training_x,testing_x,training_y,testing_y = train_test_split(real_x,real_y,test_size = 0.25,random_state = 0)  # data set split kortesi\n",
    "            # randodm_state = 0 na dile ans ekbar ekta asbo \n",
    "\n"
   ]
  },
  {
   "cell_type": "code",
   "execution_count": 14,
   "metadata": {},
   "outputs": [
    {
     "data": {
      "text/plain": [
       "array([[2003,    6,    6,    6,    6,    9,    9,    8,    8,   10],\n",
       "       [2007,    7,    7,    7,   10,    5,    5,    7,    9,    9],\n",
       "       [2001,   10,   10,   10,    6,    9,    9,    8,    8,    9],\n",
       "       [2005,    8,    8,    8,    8,   10,   10,    8,    8,    7],\n",
       "       [2006,   10,   10,   10,   10,    6,    6,    8,    8,    9],\n",
       "       [2008,    6,    7,    8,    6,    5,    5,    7,    7,   10],\n",
       "       [2002,    9,    9,    9,    8,    7,    7,    8,    8,    8],\n",
       "       [2006,    7,    7,    7,   10,    5,    5,    7,    9,    9],\n",
       "       [2005,   10,   10,   10,    6,    9,    9,    8,    8,    5],\n",
       "       [2008,   10,    5,    8,    8,   10,   10,    8,    8,    7],\n",
       "       [2005,    8,    8,    8,    6,    5,    5,    7,    7,   10],\n",
       "       [2008,    9,    9,    9,    6,    7,    7,    8,    8,    9],\n",
       "       [2007,    7,    7,    7,    6,    7,    7,    8,    8,    9],\n",
       "       [2002,    9,    9,    9,    6,    9,    9,    8,    8,   10],\n",
       "       [2001,    9,    9,    9,    8,    7,    7,    7,    7,    9],\n",
       "       [2003,   10,   10,   10,    8,    7,    7,    7,    7,    9],\n",
       "       [2002,    9,    9,    9,   10,   10,   10,    7,    7,    7],\n",
       "       [2002,    8,    8,    8,    7,    7,    7,    8,    8,    9],\n",
       "       [2003,    9,    9,    9,    8,    7,    7,    7,    7,    9],\n",
       "       [2001,    8,    8,    8,   10,    5,    5,    7,    9,    8],\n",
       "       [2004,   10,   10,   10,    8,    7,    7,    7,    7,    9],\n",
       "       [2005,   10,   10,   10,   10,    6,    6,    8,    8,    9],\n",
       "       [2001,    9,    9,    9,    8,    7,    7,    8,    8,    8],\n",
       "       [2006,    7,    7,    7,    7,   11,   11,    6,    6,    8],\n",
       "       [2004,    9,    9,    9,    7,   11,   11,    6,    6,   10]],\n",
       "      dtype=int64)"
      ]
     },
     "execution_count": 14,
     "metadata": {},
     "output_type": "execute_result"
    }
   ],
   "source": [
    "testing_x"
   ]
  },
  {
   "cell_type": "code",
   "execution_count": 15,
   "metadata": {},
   "outputs": [
    {
     "data": {
      "text/plain": [
       "array([[2004,    9,    9,    9,   10,   10,   10,    7,    7,    7],\n",
       "       [2001,    9,    9,    9,    7,   11,   11,    6,    6,   10],\n",
       "       [2008,    8,    8,    8,    8,    7,    7,    7,    7,    9],\n",
       "       [2007,    8,    8,    8,    8,    7,    7,    7,    7,   10],\n",
       "       [2006,    8,    8,    8,    7,    7,    7,    8,    8,    9],\n",
       "       [2005,    7,    7,    7,   10,    5,    5,    7,    9,    9],\n",
       "       [2007,    9,    9,    9,    6,    9,    9,    8,    8,    6],\n",
       "       [2007,    8,    8,    8,    7,    7,    7,    8,    8,    9],\n",
       "       [2006,    5,    5,    5,    8,   10,   10,    8,    8,    7],\n",
       "       [2004,    8,    8,    8,    9,    8,    8,    8,    7,    8],\n",
       "       [2003,    8,    8,    8,    6,    8,    8,    7,    7,   11],\n",
       "       [2002,   12,   12,   12,    6,   12,   12,   10,    7,    8],\n",
       "       [2005,    7,    7,    7,    8,    7,    7,    7,    7,    8],\n",
       "       [2005,    8,    8,    8,    7,    7,    7,    8,    8,    9],\n",
       "       [2006,    9,    9,    9,   10,   10,   10,    7,    7,    7],\n",
       "       [2001,    8,    8,    8,    6,    8,    8,    7,    7,   11],\n",
       "       [2005,    9,    9,    9,   10,   10,   10,    7,    7,    7],\n",
       "       [2004,    9,    9,    9,    8,    7,    7,    8,    8,    8],\n",
       "       [2004,   10,   10,   10,    6,    9,    9,    8,    8,    9],\n",
       "       [2001,   10,   10,   10,    8,    7,    7,    7,    7,    9],\n",
       "       [2002,   10,   10,   10,    6,    9,    9,    8,    8,    9],\n",
       "       [2002,   10,   10,   10,    8,    7,    7,    7,    7,    9],\n",
       "       [2004,    8,    8,    8,    6,    8,    8,    7,    7,   11],\n",
       "       [2003,    8,    8,    8,    9,    8,    8,    8,    7,    8],\n",
       "       [2001,   12,   12,   12,    6,   12,   12,   10,    7,    8],\n",
       "       [2007,    8,    8,    8,    9,    8,    8,    8,    7,    8],\n",
       "       [2005,    9,    9,    9,    8,    7,    7,    7,    7,    9],\n",
       "       [2001,   12,   12,   12,    6,    9,    9,    8,    8,   10],\n",
       "       [2003,    8,    8,    8,   10,    5,    5,    7,    9,    8],\n",
       "       [2003,   10,   10,   10,    6,    9,    9,    8,    8,    9],\n",
       "       [2004,    8,    8,    8,    7,    7,    7,    8,    8,    9],\n",
       "       [2001,    8,    8,    8,    7,    7,    7,    8,    8,    9],\n",
       "       [2003,    9,    9,    9,   10,   10,   10,    7,    7,    7],\n",
       "       [2002,   10,   10,   10,   10,    6,    6,    8,    8,    9],\n",
       "       [2005,    6,    6,    6,    6,    7,    7,    8,    8,    9],\n",
       "       [2001,   10,   10,   10,   10,    6,    6,    8,    8,    9],\n",
       "       [2003,   12,   12,   12,    6,   12,   12,   10,    7,    8],\n",
       "       [2006,    8,    8,    8,    6,    5,    5,    7,    7,   10],\n",
       "       [2005,    6,    6,    6,    6,   12,   12,   10,    7,    7],\n",
       "       [2007,    8,    8,    8,    6,    5,    5,    7,    7,   10],\n",
       "       [2007,    9,    9,    9,    8,    7,    7,    7,    7,    8],\n",
       "       [2003,    9,    9,    9,    7,   11,   11,    6,    6,   10],\n",
       "       [2007,    7,    7,    7,    7,   11,   11,    6,    6,    5],\n",
       "       [2002,    8,    8,    8,    6,    8,    8,    7,    7,   11],\n",
       "       [2007,   10,   10,   10,   10,    6,    6,    8,    8,    9],\n",
       "       [2002,    9,    9,    9,    7,   11,   11,    6,    6,   10],\n",
       "       [2003,    9,    9,    9,    8,    7,    7,    8,    8,    8],\n",
       "       [2004,   10,   10,   10,   10,    6,    6,    8,    8,    9],\n",
       "       [2008,    5,    6,    6,    6,   12,   12,   10,    7,    7],\n",
       "       [2008,    5,    5,    5,    7,   11,   11,    6,    6,    8],\n",
       "       [2006,    8,    8,    8,    8,    7,    7,    7,    7,    8],\n",
       "       [2002,    9,    9,    9,    8,    7,    7,    7,    7,    9],\n",
       "       [2008,   10,    8,    9,    6,    9,    9,    8,    8,    5],\n",
       "       [2006,    9,    9,    9,    8,    7,    7,    7,    7,    9],\n",
       "       [2006,    8,    8,    8,    9,    8,    8,    8,    7,    8],\n",
       "       [2002,    8,    8,    8,    9,    8,    8,    8,    7,    8],\n",
       "       [2003,    8,    8,    8,    7,    7,    7,    8,    8,    9],\n",
       "       [2007,   10,   10,   10,    8,   10,   10,    8,    8,    9],\n",
       "       [2004,    9,    9,    9,    8,    7,    7,    7,    7,    9],\n",
       "       [2004,   12,   12,   12,    6,    9,    9,    8,    8,   10],\n",
       "       [2006,    7,    7,    7,    6,    7,    7,    8,    8,    9],\n",
       "       [2005,    7,    7,    7,    7,   11,   11,    6,    6,    8],\n",
       "       [2001,    8,    8,    8,    9,    8,    8,    8,    7,    8],\n",
       "       [2006,    6,    6,    6,    6,   12,   12,   10,    7,    7],\n",
       "       [2007,   10,   10,   10,    8,   10,   10,    7,    7,    7],\n",
       "       [2003,   10,   10,   10,   10,    6,    6,    8,    8,    9],\n",
       "       [2002,    8,    8,    8,   10,    5,    5,    7,    9,    8],\n",
       "       [2007,    6,    6,    6,    6,   12,   12,   10,    7,    9],\n",
       "       [2001,    9,    9,    9,   10,   10,   10,    7,    7,    7],\n",
       "       [2008,    6,    8,    8,    8,    7,    7,    7,    7,    8],\n",
       "       [2006,   10,   10,   10,    6,    9,    9,    8,    8,    5],\n",
       "       [2005,    8,    8,    8,    9,    8,    8,    8,    7,    8],\n",
       "       [2004,    8,    8,    8,   10,    5,    5,    7,    9,    8],\n",
       "       [2004,   12,   12,   12,    6,   12,   12,   10,    7,    8]],\n",
       "      dtype=int64)"
      ]
     },
     "execution_count": 15,
     "metadata": {},
     "output_type": "execute_result"
    }
   ],
   "source": [
    "training_x"
   ]
  },
  {
   "cell_type": "code",
   "execution_count": 16,
   "metadata": {},
   "outputs": [],
   "source": [
    "from sklearn import tree"
   ]
  },
  {
   "cell_type": "code",
   "execution_count": 17,
   "metadata": {},
   "outputs": [],
   "source": [
    "classify1 = tree.DecisionTreeClassifier()"
   ]
  },
  {
   "cell_type": "code",
   "execution_count": 18,
   "metadata": {},
   "outputs": [],
   "source": [
    "classify1 = classify1.fit(training_x,training_y)"
   ]
  },
  {
   "cell_type": "code",
   "execution_count": 19,
   "metadata": {},
   "outputs": [
    {
     "data": {
      "text/plain": [
       "array(['Gulistan', 'Elephand Road', 'Old Town Dhaka', 'Mirpur', 'Azimpur',\n",
       "       'Mohammadpur', 'Mirpur', 'Elephand Road', 'Old Town Dhaka',\n",
       "       'Mirpur', 'Mohammadpur', 'Gulistan', 'Gulistan', 'Gulistan',\n",
       "       'Gulshan', 'Farmgate', 'Khilgaon', 'Badda', 'Gulshan',\n",
       "       'Elephand Road', 'Farmgate', 'Azimpur', 'Mirpur', 'Bonani',\n",
       "       'Bonani'], dtype=object)"
      ]
     },
     "execution_count": 19,
     "metadata": {},
     "output_type": "execute_result"
    }
   ],
   "source": [
    "testing_y # real Value"
   ]
  },
  {
   "cell_type": "code",
   "execution_count": 20,
   "metadata": {},
   "outputs": [
    {
     "data": {
      "text/plain": [
       "array(['Old Town Dhaka', 'Elephand Road', 'Old Town Dhaka', 'Mirpur',\n",
       "       'Azimpur', 'Mohammadpur', 'Mirpur', 'Elephand Road',\n",
       "       'Old Town Dhaka', 'Mirpur', 'Mohammadpur', 'Gulistan', 'Gulistan',\n",
       "       'Old Town Dhaka', 'Gulshan', 'Farmgate', 'Khilgaon', 'Badda',\n",
       "       'Gulshan', 'Elephand Road', 'Farmgate', 'Azimpur', 'Mirpur',\n",
       "       'Bonani', 'Bonani'], dtype=object)"
      ]
     },
     "execution_count": 20,
     "metadata": {},
     "output_type": "execute_result"
    }
   ],
   "source": [
    "Pred_y = classify1.predict(testing_x)\n",
    "Pred_y "
   ]
  },
  {
   "cell_type": "markdown",
   "metadata": {},
   "source": [
    "# confus_matrix"
   ]
  },
  {
   "cell_type": "code",
   "execution_count": 21,
   "metadata": {},
   "outputs": [],
   "source": [
    "from sklearn.metrics import confusion_matrix"
   ]
  },
  {
   "cell_type": "code",
   "execution_count": 22,
   "metadata": {},
   "outputs": [
    {
     "data": {
      "text/plain": [
       "array([[2, 0, 0, 0, 0, 0, 0, 0, 0, 0, 0],\n",
       "       [0, 1, 0, 0, 0, 0, 0, 0, 0, 0, 0],\n",
       "       [0, 0, 2, 0, 0, 0, 0, 0, 0, 0, 0],\n",
       "       [0, 0, 0, 3, 0, 0, 0, 0, 0, 0, 0],\n",
       "       [0, 0, 0, 0, 2, 0, 0, 0, 0, 0, 0],\n",
       "       [0, 0, 0, 0, 0, 2, 0, 0, 0, 0, 2],\n",
       "       [0, 0, 0, 0, 0, 0, 2, 0, 0, 0, 0],\n",
       "       [0, 0, 0, 0, 0, 0, 0, 1, 0, 0, 0],\n",
       "       [0, 0, 0, 0, 0, 0, 0, 0, 4, 0, 0],\n",
       "       [0, 0, 0, 0, 0, 0, 0, 0, 0, 2, 0],\n",
       "       [0, 0, 0, 0, 0, 0, 0, 0, 0, 0, 2]], dtype=int64)"
      ]
     },
     "execution_count": 22,
     "metadata": {},
     "output_type": "execute_result"
    }
   ],
   "source": [
    "confus_matrix = confusion_matrix(testing_y,Pred_y)  # y_true = Real Value, y_pred = Prediction er value\n",
    "confus_matrix"
   ]
  },
  {
   "cell_type": "markdown",
   "metadata": {},
   "source": [
    "# Accuracy"
   ]
  },
  {
   "cell_type": "code",
   "execution_count": 23,
   "metadata": {},
   "outputs": [
    {
     "name": "stdout",
     "output_type": "stream",
     "text": [
      "Accuracy :  0.92\n"
     ]
    }
   ],
   "source": [
    "from sklearn.metrics import accuracy_score \n",
    "print (\"Accuracy : \", accuracy_score(testing_y,Pred_y))"
   ]
  },
  {
   "cell_type": "code",
   "execution_count": 24,
   "metadata": {},
   "outputs": [
    {
     "name": "stdout",
     "output_type": "stream",
     "text": [
      "92.0\n"
     ]
    }
   ],
   "source": [
    "print (accuracy_score(testing_y,Pred_y)*100) # Accuracy"
   ]
  },
  {
   "cell_type": "markdown",
   "metadata": {},
   "source": [
    "# precision, recall, f1-score, support"
   ]
  },
  {
   "cell_type": "code",
   "execution_count": 25,
   "metadata": {},
   "outputs": [
    {
     "name": "stdout",
     "output_type": "stream",
     "text": [
      "                precision    recall  f1-score   support\n",
      "\n",
      "       Azimpur       1.00      1.00      1.00         2\n",
      "         Badda       1.00      1.00      1.00         1\n",
      "        Bonani       1.00      1.00      1.00         2\n",
      " Elephand Road       1.00      1.00      1.00         3\n",
      "      Farmgate       1.00      1.00      1.00         2\n",
      "      Gulistan       1.00      0.50      0.67         4\n",
      "       Gulshan       1.00      1.00      1.00         2\n",
      "      Khilgaon       1.00      1.00      1.00         1\n",
      "        Mirpur       1.00      1.00      1.00         4\n",
      "   Mohammadpur       1.00      1.00      1.00         2\n",
      "Old Town Dhaka       0.50      1.00      0.67         2\n",
      "\n",
      "      accuracy                           0.92        25\n",
      "     macro avg       0.95      0.95      0.94        25\n",
      "  weighted avg       0.96      0.92      0.92        25\n",
      "\n"
     ]
    }
   ],
   "source": [
    "from sklearn.metrics import classification_report\n",
    "print(classification_report(testing_y,Pred_y))"
   ]
  },
  {
   "cell_type": "code",
   "execution_count": null,
   "metadata": {},
   "outputs": [],
   "source": []
  }
 ],
 "metadata": {
  "kernelspec": {
   "display_name": "Python 3",
   "language": "python",
   "name": "python3"
  },
  "language_info": {
   "codemirror_mode": {
    "name": "ipython",
    "version": 3
   },
   "file_extension": ".py",
   "mimetype": "text/x-python",
   "name": "python",
   "nbconvert_exporter": "python",
   "pygments_lexer": "ipython3",
   "version": "3.7.9"
  }
 },
 "nbformat": 4,
 "nbformat_minor": 4
}
